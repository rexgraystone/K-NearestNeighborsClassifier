{
 "cells": [
  {
   "cell_type": "markdown",
   "id": "e2e19e1c-1012-488e-890c-d7799106a72a",
   "metadata": {},
   "source": [
    "# K-Nearest Neighbors Classifier using Custom Algorithm"
   ]
  },
  {
   "cell_type": "code",
   "execution_count": 122,
   "id": "7fa922d6-a663-4b23-9dc0-d7354e8bb26f",
   "metadata": {},
   "outputs": [],
   "source": [
    "from keras.datasets import mnist \n",
    "from sklearn.metrics import confusion_matrix as cm\n",
    "from sklearn.utils import shuffle\n",
    "from sklearn.metrics import classification_report as cr\n",
    "import numpy as np\n",
    "import random\n",
    "import pandas as pd\n",
    "import operator as op\n",
    "import timeit as tt\n",
    "from operator import itemgetter as ig"
   ]
  },
  {
   "cell_type": "markdown",
   "id": "b5e9fa89-f6ca-4558-bf8b-b54c1db084ad",
   "metadata": {},
   "source": [
    "Custom method to calculate Euclidean Distance"
   ]
  },
  {
   "cell_type": "code",
   "execution_count": 123,
   "id": "619f67a2-aec0-410a-833f-bae7c81a8c75",
   "metadata": {},
   "outputs": [],
   "source": [
    "def eucDist(x1, x2): \n",
    "    return np.sqrt(np.sum(x1-x2)**2)"
   ]
  },
  {
   "cell_type": "markdown",
   "id": "a723fb8a-c0e3-43cb-8dcc-029e40664b6b",
   "metadata": {},
   "source": [
    "Defining the kNN Algorithm"
   ]
  },
  {
   "cell_type": "code",
   "execution_count": 147,
   "id": "adf3c43e-f791-436e-8d29-f555c642b141",
   "metadata": {
    "tags": []
   },
   "outputs": [],
   "source": [
    "# Source: https://medium.com/analytics-vidhya/a-beginners-guide-to-knn-and-mnist-handwritten-digits-recognition-using-knn-from-scratch-df6fb982748a\n",
    "class kNN:\n",
    "    def __init__(self, n_neighbors):\n",
    "        self.K = n_neighbors\n",
    "    \n",
    "    def fit(self, train_X, train_y):\n",
    "        self.train_X = train_X\n",
    "        self.train_y = train_y\n",
    "    \n",
    "    def predict(self, test_X):\n",
    "        predictions = [] \n",
    "        for i in range(len(test_X)):\n",
    "            dist = np.array([eucDist(test_X[i], t_X) for t_X in self.train_X])\n",
    "            distSort = dist.argsort()[:self.K]\n",
    "            nCount = {} # Count of neighbors\n",
    "            for idx in distSort:\n",
    "                if self.train_y[idx] in nCount:\n",
    "                    nCount[self.train_y[idx]] += 1\n",
    "                else:\n",
    "                    nCount[self.train_y[idx]] = 1\n",
    "            sorted_nCount = sorted(nCount.items(), key=ig(1), reverse=True)\n",
    "            predictions.append(sorted_nCount[0][0]) \n",
    "        return predictions"
   ]
  },
  {
   "cell_type": "markdown",
   "id": "a3fccb97-6bdf-4072-8fcd-cbda751557b5",
   "metadata": {},
   "source": [
    "Calculations and definitions of variables"
   ]
  },
  {
   "cell_type": "code",
   "execution_count": 148,
   "id": "cee6919d-175b-4e1b-a0f2-11debb571f94",
   "metadata": {},
   "outputs": [],
   "source": [
    "k = 44 #Since our USNs end with 17 and 44, the 'k' value is 44\n",
    "dp = 7100 #number of data points; (17 + 44) x 100 + 1000 = 7100\n",
    "trp = 5680 #training points; 80% of 7100 = 5680\n",
    "tp = 1420 #testing points; 20% of 7100 = 1420\n",
    "n = 10 # Will be used for matrices and for-loops"
   ]
  },
  {
   "cell_type": "markdown",
   "id": "ac700ed2-dd8f-4b40-bd54-c49310bac392",
   "metadata": {},
   "source": [
    "Defining training and testing datas"
   ]
  },
  {
   "cell_type": "code",
   "execution_count": 149,
   "id": "baa3e290-96f4-4cec-ad68-0c6c5db0e34f",
   "metadata": {},
   "outputs": [],
   "source": [
    "(train_X, train_y), (test_X, test_y) = mnist.load_data()\n",
    "train_X = train_X[:dp] # Resizing train_X with our required data points\n",
    "train_X = np.reshape(train_X, (dp, 28*28)) \n",
    "train_y = train_y[:dp] # Resizing train_y with our required data points\n",
    "test_X = test_X[:dp] # Resizing test_X with our required data points\n",
    "test_X = np.reshape(test_X, (dp, 28*28))\n",
    "test_y = test_y[:dp] # Resizing test_X with our required data points"
   ]
  },
  {
   "cell_type": "markdown",
   "id": "6ebeeff8-0db5-4ee9-8292-3634cf8ba9fe",
   "metadata": {},
   "source": [
    "Custom shuffle method for training data"
   ]
  },
  {
   "cell_type": "code",
   "execution_count": 150,
   "id": "8b55079d-3633-4af9-b6a9-a9f401417da7",
   "metadata": {},
   "outputs": [],
   "source": [
    "# implementing mnist from keras in sklearn's train_test_split was complicated\n",
    "# Source: Sai Nishwanth, USN: ENG21AM3031\n",
    "def shufTrainData():\n",
    "    X_shuf, y_shuf = shuffle(train_X, train_y, random_state = None)\n",
    "    return (X_shuf, y_shuf)"
   ]
  },
  {
   "cell_type": "markdown",
   "id": "44e9ab69-9bc5-4fd4-bb4a-91ac58488cad",
   "metadata": {},
   "source": [
    "Custom shuffle method for testing data"
   ]
  },
  {
   "cell_type": "code",
   "execution_count": 151,
   "id": "6d04d60a-5a7a-4e06-bc5d-2b665cd4c21d",
   "metadata": {},
   "outputs": [],
   "source": [
    "def shufTestData():\n",
    "    X_shuf, y_shuf = shuffle(test_X, test_y, random_state = None)\n",
    "    return (X_shuf, y_shuf)"
   ]
  },
  {
   "cell_type": "markdown",
   "id": "8661fe76-de04-4e0c-8c65-7a9c2928dc84",
   "metadata": {},
   "source": [
    "Method to calculate the average runtime"
   ]
  },
  {
   "cell_type": "code",
   "execution_count": 152,
   "id": "9d37f9cf-2f82-49e2-99a9-2eea595dc24c",
   "metadata": {},
   "outputs": [],
   "source": [
    "def calcAvg(tAvg, total_1):\n",
    "    if i == 0:\n",
    "        tAvg = total_1\n",
    "        return tAvg\n",
    "    elif i != 0:\n",
    "        tAvg = (tAvg + total_1)/(2)\n",
    "        return tAvg"
   ]
  },
  {
   "cell_type": "markdown",
   "id": "db28adcf-4649-4a77-b96e-60b5387a2ba0",
   "metadata": {
    "tags": []
   },
   "source": [
    "Cross Validation"
   ]
  },
  {
   "cell_type": "code",
   "execution_count": 153,
   "id": "9c14a8e3-e03c-4957-b652-28a44a1811c1",
   "metadata": {},
   "outputs": [
    {
     "name": "stdout",
     "output_type": "stream",
     "text": [
      "Starting iteration - 0\n",
      "Ending iteration - 0\n",
      "Total runtime for iteration '0': 41.53875537499698 seconds.\n",
      "\n",
      "Starting iteration - 1\n",
      "Ending iteration - 1\n",
      "Total runtime for iteration '1': 41.999625290998665 seconds.\n",
      "\n",
      "Starting iteration - 2\n",
      "Ending iteration - 2\n",
      "Total runtime for iteration '2': 40.647746250004275 seconds.\n",
      "\n",
      "Starting iteration - 3\n",
      "Ending iteration - 3\n",
      "Total runtime for iteration '3': 40.50032004199602 seconds.\n",
      "\n",
      "Starting iteration - 4\n"
     ]
    },
    {
     "ename": "KeyboardInterrupt",
     "evalue": "",
     "output_type": "error",
     "traceback": [
      "\u001b[0;31m---------------------------------------------------------------------------\u001b[0m",
      "\u001b[0;31mKeyboardInterrupt\u001b[0m                         Traceback (most recent call last)",
      "Cell \u001b[0;32mIn [153], line 22\u001b[0m\n\u001b[1;32m     20\u001b[0m X_test \u001b[38;5;241m=\u001b[39m X_test[:tp] \u001b[38;5;66;03m# Testing with 20% of data\u001b[39;00m\n\u001b[1;32m     21\u001b[0m y_test \u001b[38;5;241m=\u001b[39m y_test[:tp]\n\u001b[0;32m---> 22\u001b[0m y_pred \u001b[38;5;241m=\u001b[39m knn\u001b[38;5;241m.\u001b[39mpredict(X_test)\n\u001b[1;32m     23\u001b[0m cm_2 \u001b[38;5;241m=\u001b[39m cm(y_test, y_pred)\n\u001b[1;32m     24\u001b[0m cm_1 \u001b[38;5;241m=\u001b[39m cm_0 \u001b[38;5;241m+\u001b[39m cm_2\n",
      "Cell \u001b[0;32mIn [147], line 13\u001b[0m, in \u001b[0;36mkNN.predict\u001b[0;34m(self, test_X)\u001b[0m\n\u001b[1;32m     11\u001b[0m predictions \u001b[38;5;241m=\u001b[39m [] \n\u001b[1;32m     12\u001b[0m \u001b[38;5;28;01mfor\u001b[39;00m i \u001b[38;5;129;01min\u001b[39;00m \u001b[38;5;28mrange\u001b[39m(\u001b[38;5;28mlen\u001b[39m(test_X)):\n\u001b[0;32m---> 13\u001b[0m     dist \u001b[38;5;241m=\u001b[39m np\u001b[38;5;241m.\u001b[39marray([eucDist(test_X[i], t_X) \u001b[38;5;28;01mfor\u001b[39;00m t_X \u001b[38;5;129;01min\u001b[39;00m \u001b[38;5;28mself\u001b[39m\u001b[38;5;241m.\u001b[39mtrain_X])\n\u001b[1;32m     14\u001b[0m     distSort \u001b[38;5;241m=\u001b[39m dist\u001b[38;5;241m.\u001b[39margsort()[:\u001b[38;5;28mself\u001b[39m\u001b[38;5;241m.\u001b[39mK]\n\u001b[1;32m     15\u001b[0m     nCount \u001b[38;5;241m=\u001b[39m {} \u001b[38;5;66;03m# Count of neighbors\u001b[39;00m\n",
      "Cell \u001b[0;32mIn [147], line 13\u001b[0m, in \u001b[0;36m<listcomp>\u001b[0;34m(.0)\u001b[0m\n\u001b[1;32m     11\u001b[0m predictions \u001b[38;5;241m=\u001b[39m [] \n\u001b[1;32m     12\u001b[0m \u001b[38;5;28;01mfor\u001b[39;00m i \u001b[38;5;129;01min\u001b[39;00m \u001b[38;5;28mrange\u001b[39m(\u001b[38;5;28mlen\u001b[39m(test_X)):\n\u001b[0;32m---> 13\u001b[0m     dist \u001b[38;5;241m=\u001b[39m np\u001b[38;5;241m.\u001b[39marray([\u001b[43meucDist\u001b[49m\u001b[43m(\u001b[49m\u001b[43mtest_X\u001b[49m\u001b[43m[\u001b[49m\u001b[43mi\u001b[49m\u001b[43m]\u001b[49m\u001b[43m,\u001b[49m\u001b[43m \u001b[49m\u001b[43mt_X\u001b[49m\u001b[43m)\u001b[49m \u001b[38;5;28;01mfor\u001b[39;00m t_X \u001b[38;5;129;01min\u001b[39;00m \u001b[38;5;28mself\u001b[39m\u001b[38;5;241m.\u001b[39mtrain_X])\n\u001b[1;32m     14\u001b[0m     distSort \u001b[38;5;241m=\u001b[39m dist\u001b[38;5;241m.\u001b[39margsort()[:\u001b[38;5;28mself\u001b[39m\u001b[38;5;241m.\u001b[39mK]\n\u001b[1;32m     15\u001b[0m     nCount \u001b[38;5;241m=\u001b[39m {} \u001b[38;5;66;03m# Count of neighbors\u001b[39;00m\n",
      "Cell \u001b[0;32mIn [123], line 2\u001b[0m, in \u001b[0;36meucDist\u001b[0;34m(x1, x2)\u001b[0m\n\u001b[1;32m      1\u001b[0m \u001b[38;5;28;01mdef\u001b[39;00m \u001b[38;5;21meucDist\u001b[39m(x1, x2): \n\u001b[0;32m----> 2\u001b[0m     \u001b[38;5;28;01mreturn\u001b[39;00m np\u001b[38;5;241m.\u001b[39msqrt(\u001b[43mnp\u001b[49m\u001b[38;5;241;43m.\u001b[39;49m\u001b[43msum\u001b[49m\u001b[43m(\u001b[49m\u001b[43mx1\u001b[49m\u001b[38;5;241;43m-\u001b[39;49m\u001b[43mx2\u001b[49m\u001b[43m)\u001b[49m\u001b[38;5;241m*\u001b[39m\u001b[38;5;241m*\u001b[39m\u001b[38;5;241m2\u001b[39m)\n",
      "File \u001b[0;32m<__array_function__ internals>:180\u001b[0m, in \u001b[0;36msum\u001b[0;34m(*args, **kwargs)\u001b[0m\n",
      "File \u001b[0;32m~/miniforge3/lib/python3.9/site-packages/numpy/core/fromnumeric.py:2296\u001b[0m, in \u001b[0;36msum\u001b[0;34m(a, axis, dtype, out, keepdims, initial, where)\u001b[0m\n\u001b[1;32m   2293\u001b[0m         \u001b[38;5;28;01mreturn\u001b[39;00m out\n\u001b[1;32m   2294\u001b[0m     \u001b[38;5;28;01mreturn\u001b[39;00m res\n\u001b[0;32m-> 2296\u001b[0m \u001b[38;5;28;01mreturn\u001b[39;00m \u001b[43m_wrapreduction\u001b[49m\u001b[43m(\u001b[49m\u001b[43ma\u001b[49m\u001b[43m,\u001b[49m\u001b[43m \u001b[49m\u001b[43mnp\u001b[49m\u001b[38;5;241;43m.\u001b[39;49m\u001b[43madd\u001b[49m\u001b[43m,\u001b[49m\u001b[43m \u001b[49m\u001b[38;5;124;43m'\u001b[39;49m\u001b[38;5;124;43msum\u001b[39;49m\u001b[38;5;124;43m'\u001b[39;49m\u001b[43m,\u001b[49m\u001b[43m \u001b[49m\u001b[43maxis\u001b[49m\u001b[43m,\u001b[49m\u001b[43m \u001b[49m\u001b[43mdtype\u001b[49m\u001b[43m,\u001b[49m\u001b[43m \u001b[49m\u001b[43mout\u001b[49m\u001b[43m,\u001b[49m\u001b[43m \u001b[49m\u001b[43mkeepdims\u001b[49m\u001b[38;5;241;43m=\u001b[39;49m\u001b[43mkeepdims\u001b[49m\u001b[43m,\u001b[49m\n\u001b[1;32m   2297\u001b[0m \u001b[43m                      \u001b[49m\u001b[43minitial\u001b[49m\u001b[38;5;241;43m=\u001b[39;49m\u001b[43minitial\u001b[49m\u001b[43m,\u001b[49m\u001b[43m \u001b[49m\u001b[43mwhere\u001b[49m\u001b[38;5;241;43m=\u001b[39;49m\u001b[43mwhere\u001b[49m\u001b[43m)\u001b[49m\n",
      "File \u001b[0;32m~/miniforge3/lib/python3.9/site-packages/numpy/core/fromnumeric.py:86\u001b[0m, in \u001b[0;36m_wrapreduction\u001b[0;34m(obj, ufunc, method, axis, dtype, out, **kwargs)\u001b[0m\n\u001b[1;32m     83\u001b[0m         \u001b[38;5;28;01melse\u001b[39;00m:\n\u001b[1;32m     84\u001b[0m             \u001b[38;5;28;01mreturn\u001b[39;00m reduction(axis\u001b[38;5;241m=\u001b[39maxis, out\u001b[38;5;241m=\u001b[39mout, \u001b[38;5;241m*\u001b[39m\u001b[38;5;241m*\u001b[39mpasskwargs)\n\u001b[0;32m---> 86\u001b[0m \u001b[38;5;28;01mreturn\u001b[39;00m \u001b[43mufunc\u001b[49m\u001b[38;5;241;43m.\u001b[39;49m\u001b[43mreduce\u001b[49m\u001b[43m(\u001b[49m\u001b[43mobj\u001b[49m\u001b[43m,\u001b[49m\u001b[43m \u001b[49m\u001b[43maxis\u001b[49m\u001b[43m,\u001b[49m\u001b[43m \u001b[49m\u001b[43mdtype\u001b[49m\u001b[43m,\u001b[49m\u001b[43m \u001b[49m\u001b[43mout\u001b[49m\u001b[43m,\u001b[49m\u001b[43m \u001b[49m\u001b[38;5;241;43m*\u001b[39;49m\u001b[38;5;241;43m*\u001b[39;49m\u001b[43mpasskwargs\u001b[49m\u001b[43m)\u001b[49m\n",
      "\u001b[0;31mKeyboardInterrupt\u001b[0m: "
     ]
    }
   ],
   "source": [
    "cm_0 = np.zeros((n, n)) # Creating a temporary null matrix\n",
    "# To calculate the precision of each digit\n",
    "# Source: Sai Nishwanth, USN: ENG21AM3031\n",
    "prec = 0\n",
    "\n",
    "# To calculate total runtime for k iterations \n",
    "# Source: https://stackoverflow.com/questions/5622976/how-do-you-calculate-program-run-time-in-python\n",
    "start_0 = tt.default_timer()\n",
    "tAvg = 0\n",
    "knn = kNN(n_neighbors = k)\n",
    "\n",
    "for i in range(k): \n",
    "    start_1 = tt.default_timer() # To calculate runtime for each iteration\n",
    "    print(f'Starting iteration - {i}') # To keep a track of how many iterations have finished\n",
    "    X_train, y_train = shufTrainData()\n",
    "    X_test, y_test = shufTestData()\n",
    "    X_train = X_train[:trp] # Training with 80% of data\n",
    "    y_train = y_train[:trp] \n",
    "    knn.fit(X_train, y_train)\n",
    "    X_test = X_test[:tp] # Testing with 20% of data\n",
    "    y_test = y_test[:tp]\n",
    "    y_pred = knn.predict(X_test)\n",
    "    cm_2 = cm(y_test, y_pred)\n",
    "    cm_1 = cm_0 + cm_2\n",
    "    cm_0 = cm_1\n",
    "    prec += cm_0.diagonal()/cm_1.sum(axis = 0)\n",
    "    print(f'Ending iteration - {i}')\n",
    "    stop_1 = tt.default_timer() # To calculate runtime for each iteration\n",
    "    total_1 = (stop_1 - start_1)\n",
    "    tAvg = calcAvg(tAvg, total_1)\n",
    "    print(f'Total runtime for iteration \\'{i}\\': {total_1} seconds.\\n')\n",
    "    \n",
    "# To calculate total runtime for k iterations\n",
    "stop_0 = tt.default_timer()\n",
    "total_0 = (stop_0 - start_0)/60 # Since time is stored in seconds and it is easier to read in minutes\n",
    "for i in range(n):\n",
    "    print(f'Precision of number {i} - {(prec[i]/k)*100} %')\n",
    "    \n",
    "cmAvg = cm_1/k \n",
    "print(cmAvg)\n",
    "print(f'Total runtime for {k} iterations: {total_0} minutes.') \n",
    "print(f'Average runtime per iterations: {tAvg} seconds.') "
   ]
  },
  {
   "cell_type": "markdown",
   "id": "c09e4a6f-6c8d-4bd1-a1e2-976557dfb83f",
   "metadata": {},
   "source": [
    "Creating a Pandas Data Frame for better viewing of the result"
   ]
  },
  {
   "cell_type": "code",
   "execution_count": 145,
   "id": "f1eb9a5c-1922-45e4-b596-16ba6146db9f",
   "metadata": {},
   "outputs": [
    {
     "data": {
      "text/html": [
       "<div>\n",
       "<style scoped>\n",
       "    .dataframe tbody tr th:only-of-type {\n",
       "        vertical-align: middle;\n",
       "    }\n",
       "\n",
       "    .dataframe tbody tr th {\n",
       "        vertical-align: top;\n",
       "    }\n",
       "\n",
       "    .dataframe thead th {\n",
       "        text-align: right;\n",
       "    }\n",
       "</style>\n",
       "<table border=\"1\" class=\"dataframe\">\n",
       "  <thead>\n",
       "    <tr style=\"text-align: right;\">\n",
       "      <th></th>\n",
       "      <th>0</th>\n",
       "      <th>1</th>\n",
       "      <th>2</th>\n",
       "      <th>3</th>\n",
       "      <th>4</th>\n",
       "      <th>5</th>\n",
       "      <th>6</th>\n",
       "      <th>7</th>\n",
       "      <th>8</th>\n",
       "      <th>9</th>\n",
       "    </tr>\n",
       "  </thead>\n",
       "  <tbody>\n",
       "    <tr>\n",
       "      <th>0</th>\n",
       "      <td>124.704545</td>\n",
       "      <td>7.113636</td>\n",
       "      <td>0.000000</td>\n",
       "      <td>0.000000</td>\n",
       "      <td>0.113636</td>\n",
       "      <td>0.000000</td>\n",
       "      <td>4.590909</td>\n",
       "      <td>0.181818</td>\n",
       "      <td>1.363636</td>\n",
       "      <td>0.045455</td>\n",
       "    </tr>\n",
       "    <tr>\n",
       "      <th>1</th>\n",
       "      <td>0.000000</td>\n",
       "      <td>159.250000</td>\n",
       "      <td>0.068182</td>\n",
       "      <td>0.136364</td>\n",
       "      <td>0.000000</td>\n",
       "      <td>0.000000</td>\n",
       "      <td>0.318182</td>\n",
       "      <td>0.000000</td>\n",
       "      <td>0.045455</td>\n",
       "      <td>0.000000</td>\n",
       "    </tr>\n",
       "    <tr>\n",
       "      <th>2</th>\n",
       "      <td>4.363636</td>\n",
       "      <td>58.000000</td>\n",
       "      <td>75.750000</td>\n",
       "      <td>0.954545</td>\n",
       "      <td>0.181818</td>\n",
       "      <td>0.000000</td>\n",
       "      <td>2.068182</td>\n",
       "      <td>3.204545</td>\n",
       "      <td>3.045455</td>\n",
       "      <td>0.295455</td>\n",
       "    </tr>\n",
       "    <tr>\n",
       "      <th>3</th>\n",
       "      <td>1.477273</td>\n",
       "      <td>53.613636</td>\n",
       "      <td>0.340909</td>\n",
       "      <td>78.636364</td>\n",
       "      <td>0.000000</td>\n",
       "      <td>0.431818</td>\n",
       "      <td>1.386364</td>\n",
       "      <td>3.090909</td>\n",
       "      <td>4.068182</td>\n",
       "      <td>2.522727</td>\n",
       "    </tr>\n",
       "    <tr>\n",
       "      <th>4</th>\n",
       "      <td>0.454545</td>\n",
       "      <td>28.772727</td>\n",
       "      <td>0.136364</td>\n",
       "      <td>0.000000</td>\n",
       "      <td>74.068182</td>\n",
       "      <td>0.000000</td>\n",
       "      <td>3.977273</td>\n",
       "      <td>0.545455</td>\n",
       "      <td>0.045455</td>\n",
       "      <td>32.159091</td>\n",
       "    </tr>\n",
       "    <tr>\n",
       "      <th>5</th>\n",
       "      <td>7.272727</td>\n",
       "      <td>33.545455</td>\n",
       "      <td>0.181818</td>\n",
       "      <td>7.659091</td>\n",
       "      <td>0.181818</td>\n",
       "      <td>48.681818</td>\n",
       "      <td>7.818182</td>\n",
       "      <td>2.340909</td>\n",
       "      <td>8.522727</td>\n",
       "      <td>9.386364</td>\n",
       "    </tr>\n",
       "    <tr>\n",
       "      <th>6</th>\n",
       "      <td>2.386364</td>\n",
       "      <td>16.886364</td>\n",
       "      <td>0.000000</td>\n",
       "      <td>0.000000</td>\n",
       "      <td>0.772727</td>\n",
       "      <td>0.000000</td>\n",
       "      <td>110.795455</td>\n",
       "      <td>0.250000</td>\n",
       "      <td>0.068182</td>\n",
       "      <td>0.022727</td>\n",
       "    </tr>\n",
       "    <tr>\n",
       "      <th>7</th>\n",
       "      <td>0.454545</td>\n",
       "      <td>29.909091</td>\n",
       "      <td>0.000000</td>\n",
       "      <td>0.000000</td>\n",
       "      <td>0.000000</td>\n",
       "      <td>0.000000</td>\n",
       "      <td>0.181818</td>\n",
       "      <td>103.909091</td>\n",
       "      <td>0.659091</td>\n",
       "      <td>9.068182</td>\n",
       "    </tr>\n",
       "    <tr>\n",
       "      <th>8</th>\n",
       "      <td>4.250000</td>\n",
       "      <td>56.181818</td>\n",
       "      <td>0.295455</td>\n",
       "      <td>1.954545</td>\n",
       "      <td>0.431818</td>\n",
       "      <td>0.750000</td>\n",
       "      <td>3.795455</td>\n",
       "      <td>3.613636</td>\n",
       "      <td>64.909091</td>\n",
       "      <td>4.954545</td>\n",
       "    </tr>\n",
       "    <tr>\n",
       "      <th>9</th>\n",
       "      <td>2.636364</td>\n",
       "      <td>21.318182</td>\n",
       "      <td>0.113636</td>\n",
       "      <td>0.659091</td>\n",
       "      <td>0.340909</td>\n",
       "      <td>0.045455</td>\n",
       "      <td>0.613636</td>\n",
       "      <td>2.750000</td>\n",
       "      <td>1.704545</td>\n",
       "      <td>116.204545</td>\n",
       "    </tr>\n",
       "  </tbody>\n",
       "</table>\n",
       "</div>"
      ],
      "text/plain": [
       "            0           1          2          3          4          5  \\\n",
       "0  124.704545    7.113636   0.000000   0.000000   0.113636   0.000000   \n",
       "1    0.000000  159.250000   0.068182   0.136364   0.000000   0.000000   \n",
       "2    4.363636   58.000000  75.750000   0.954545   0.181818   0.000000   \n",
       "3    1.477273   53.613636   0.340909  78.636364   0.000000   0.431818   \n",
       "4    0.454545   28.772727   0.136364   0.000000  74.068182   0.000000   \n",
       "5    7.272727   33.545455   0.181818   7.659091   0.181818  48.681818   \n",
       "6    2.386364   16.886364   0.000000   0.000000   0.772727   0.000000   \n",
       "7    0.454545   29.909091   0.000000   0.000000   0.000000   0.000000   \n",
       "8    4.250000   56.181818   0.295455   1.954545   0.431818   0.750000   \n",
       "9    2.636364   21.318182   0.113636   0.659091   0.340909   0.045455   \n",
       "\n",
       "            6           7          8           9  \n",
       "0    4.590909    0.181818   1.363636    0.045455  \n",
       "1    0.318182    0.000000   0.045455    0.000000  \n",
       "2    2.068182    3.204545   3.045455    0.295455  \n",
       "3    1.386364    3.090909   4.068182    2.522727  \n",
       "4    3.977273    0.545455   0.045455   32.159091  \n",
       "5    7.818182    2.340909   8.522727    9.386364  \n",
       "6  110.795455    0.250000   0.068182    0.022727  \n",
       "7    0.181818  103.909091   0.659091    9.068182  \n",
       "8    3.795455    3.613636  64.909091    4.954545  \n",
       "9    0.613636    2.750000   1.704545  116.204545  "
      ]
     },
     "execution_count": 145,
     "metadata": {},
     "output_type": "execute_result"
    }
   ],
   "source": [
    "df = pd.DataFrame(cmAvg)\n",
    "df"
   ]
  },
  {
   "cell_type": "markdown",
   "id": "00da4089-99c6-4093-b7f3-df58c43fdaf5",
   "metadata": {},
   "source": [
    "To calculate and verify the sum of all the elements in the matrix"
   ]
  },
  {
   "cell_type": "code",
   "execution_count": 146,
   "id": "29eb8963-5ea0-4471-af29-ad3dcd9f56b9",
   "metadata": {},
   "outputs": [
    {
     "data": {
      "text/plain": [
       "1419.9999999999995"
      ]
     },
     "execution_count": 146,
     "metadata": {},
     "output_type": "execute_result"
    }
   ],
   "source": [
    "s = 0\n",
    "for i in range(n):\n",
    "    for j in range(n):\n",
    "        s += cmAvg[i][j]\n",
    "        \n",
    "s"
   ]
  },
  {
   "cell_type": "code",
   "execution_count": null,
   "id": "460f2d77-0975-4d93-b97f-3efd21631dab",
   "metadata": {},
   "outputs": [],
   "source": []
  }
 ],
 "metadata": {
  "kernelspec": {
   "display_name": "Python 3 (ipykernel)",
   "language": "python",
   "name": "python3"
  },
  "language_info": {
   "codemirror_mode": {
    "name": "ipython",
    "version": 3
   },
   "file_extension": ".py",
   "mimetype": "text/x-python",
   "name": "python",
   "nbconvert_exporter": "python",
   "pygments_lexer": "ipython3",
   "version": "3.9.13"
  }
 },
 "nbformat": 4,
 "nbformat_minor": 5
}
